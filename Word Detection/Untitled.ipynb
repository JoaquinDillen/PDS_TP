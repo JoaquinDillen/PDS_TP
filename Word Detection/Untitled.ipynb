{
 "cells": [
  {
   "cell_type": "markdown",
   "id": "4984dd1b",
   "metadata": {},
   "source": [
    "# Phonem Feature Extraction Detection \n",
    "\n",
    "This code will generate and analyze the overall data and actually put all the information out "
   ]
  },
  {
   "cell_type": "code",
   "execution_count": null,
   "id": "0c495bff",
   "metadata": {},
   "outputs": [],
   "source": []
  },
  {
   "cell_type": "code",
   "execution_count": null,
   "id": "c2f76e96",
   "metadata": {},
   "outputs": [],
   "source": []
  }
 ],
 "metadata": {
  "kernelspec": {
   "display_name": "Python 3 (ipykernel)",
   "language": "python",
   "name": "python3"
  },
  "language_info": {
   "codemirror_mode": {
    "name": "ipython",
    "version": 3
   },
   "file_extension": ".py",
   "mimetype": "text/x-python",
   "name": "python",
   "nbconvert_exporter": "python",
   "pygments_lexer": "ipython3",
   "version": "3.8.12"
  }
 },
 "nbformat": 4,
 "nbformat_minor": 5
}
