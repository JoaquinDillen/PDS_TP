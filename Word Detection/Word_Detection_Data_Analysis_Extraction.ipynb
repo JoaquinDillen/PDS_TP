{
 "cells": [
  {
   "cell_type": "markdown",
   "id": "f37a59d5",
   "metadata": {},
   "source": [
    "#  Data Analysis and Results Collection\n",
    "\n",
    "This file is for automaticly output all the analysis for all dataset at once "
   ]
  },
  {
   "cell_type": "code",
   "execution_count": null,
   "id": "9fb4bfcc",
   "metadata": {},
   "outputs": [],
   "source": [
    "#!pip install xlwt"
   ]
  },
  {
   "cell_type": "code",
   "execution_count": 1,
   "id": "0c9fcb64",
   "metadata": {},
   "outputs": [],
   "source": [
    "import warnings\n",
    "\n",
    "warnings.filterwarnings('ignore')"
   ]
  },
  {
   "cell_type": "code",
   "execution_count": 2,
   "id": "040f08ce",
   "metadata": {},
   "outputs": [],
   "source": [
    "#Imports\n",
    "import math\n",
    "import librosa\n",
    "import librosa.display\n",
    "import IPython.display as ipd\n",
    "\n",
    "import pyAudioAnalysis\n",
    "import pydub\n",
    "import ffmpeg\n",
    "import os\n",
    "import sklearn\n",
    "\n",
    "from pydub import AudioSegment\n",
    "from pydub.silence import split_on_silence\n",
    "\n",
    "import numpy\n",
    "import numpy as np\n",
    "import matplotlib.pyplot as plt\n",
    "\n",
    "import xlwt\n",
    "from xlwt import Workbook\n",
    "\n",
    "from numpy import sin, cos, pi, linspace, arange, log10, absolute\n",
    "from numpy.random import randn\n",
    "from scipy.signal import lfilter, lfilter_zi, filtfilt, butter, freqz, welch\n",
    "from scipy.io.wavfile import read , write\n",
    "from scipy.signal import spectrogram\n",
    "from matplotlib import pyplot\n",
    "from matplotlib.pyplot import ylabel, xlabel\n",
    "from matplotlib.pyplot import plot, legend, show, grid, figure, savefig#, hold"
   ]
  },
  {
   "cell_type": "code",
   "execution_count": null,
   "id": "5a9ea7a2",
   "metadata": {},
   "outputs": [],
   "source": [
    "#Cepstrum and Power Spectrum\n",
    "\n",
    "def real_cepstrum(x, n=None):\n",
    "# Compute the real cepstrum of a real sequence\n",
    "#    x : ndarray\n",
    "#        Real sequence to compute real cepstrum of.\n",
    "#    n : {None, int}, optional\n",
    "#        Length of the Fourier transform.\n",
    "#    Returns\n",
    "#    -------\n",
    "#    ceps: ndarray\n",
    "#        The real cepstrum.\n",
    "\n",
    "    spectrum = np.abs(np.fft.fft(x, n=n))**2\n",
    "    ceps = np.fft.ifft(np.log(spectrum))\n",
    "\n",
    "    return ceps, spectrum`"
   ]
  },
  {
   "cell_type": "code",
   "execution_count": null,
   "id": "6431790b",
   "metadata": {},
   "outputs": [],
   "source": [
    "#Zero Crossing Rate\n",
    "\n",
    "def ZCR(samples, frameSize, overlap):\n",
    "    wlen = len(samples)\n",
    "    step = frameSize - overlap\n",
    "    frameNum = math.ceil(wlen/step)\n",
    "    zcr = np.zeros((frameNum,1))\n",
    "    for i in range(frameNum):\n",
    "        curFrame = samples[np.arange(i*step,min(i*step+frameSize,wlen))]\n",
    "        #To avoid DC bias, usually we need to perform mean substraction on each frame\n",
    "        curFrame = curFrame - np.mean(curFrame) #Zero-Justified\n",
    "        zcr[i] = sum(curFrame[0:-1]*curFrame[1::]<=0)\n",
    "    return zcr"
   ]
  },
  {
   "cell_type": "code",
   "execution_count": null,
   "id": "d1103117",
   "metadata": {},
   "outputs": [],
   "source": [
    "def spectral_centroid(x, samplerate=44100):\n",
    "    magnitudes = np.abs(np.fft.rfft(x)) # magnitudes of positive frequencies\n",
    "    length = len(x)\n",
    "    freqs = np.abs(np.fft.fftfreq(length, 1.0/samplerate)[:length//2+1]) # positive frequencies\n",
    "    return np.sum(magnitudes*freqs) / np.sum(magnitudes) # return weighted mean"
   ]
  },
  {
   "cell_type": "code",
   "execution_count": null,
   "id": "f3d565b5",
   "metadata": {},
   "outputs": [],
   "source": [
    "#List of Words\n",
    "words = [\"_chata_0\",\"_chapa_0\",\"_chave_0\",\"_lata_0\",\"_lapa_0\",\"_lava_0\",\"_casa_0\",\"_capa_0\",\"_cave_0\",\"_cata_0\",\"_chuta_0\",\"_chupa_0\",\"_chuva_0\",\"_farta_0\",\"_farpa_0\",\"_farda_0\",\"_ripa_0\",\"_rita_0\",\"_rica_0\"]\n",
    "\n",
    "#List of Dataset versions\n",
    "d = {\"one\": 1, \"two\": 2}\n",
    "iterable = d.keys()\n",
    "\n",
    "#List of people\n",
    "p = ['A','J','N']\n",
    "\n",
    "#List of Phonemes \n",
    "phoneme = [\"_0\", \"_1\"]"
   ]
  },
  {
   "cell_type": "code",
   "execution_count": 5,
   "id": "29a9fb0e",
   "metadata": {},
   "outputs": [
    {
     "data": {
      "text/plain": [
       "<Figure size 432x288 with 0 Axes>"
      ]
     },
     "metadata": {},
     "output_type": "display_data"
    }
   ],
   "source": [
    "segments = []\n",
    "errors = 0\n",
    "\n",
    "# Workbook is created\n",
    "wb = Workbook()\n",
    "\n",
    "# add_sheet is used to create sheet.\n",
    "sheet1 = wb.add_sheet('Word Analysis')\n",
    "\n",
    "sheet1.write(1, 1, 'Max PW_spec')\n",
    "sheet1.write(2, 1, 'Ceps')\n",
    "sheet1.write(3, 1, 'Avg ZCR')\n",
    "sheet1.write(4, 1, 'Spec_zen')\n",
    "\n",
    "w = 0\n",
    "h = 1\n",
    "\n",
    "for y in words:\n",
    "    for item in iterable:\n",
    "        for x in p:\n",
    "            for t in phoneme:\n",
    "                if (w == 9):\n",
    "                    w = 0\n",
    "                h += 1\n",
    "                # Write file path\n",
    "                l = str(d[item])\n",
    "                os.chdir(r'C:\\Users\\Dasil\\1. Processamento Digital do Sinal\\Project')\n",
    "                \n",
    "                #MFCC Analysis\n",
    "                filename = 'audio/WD_data/'+x+y+l+t+'.wav' #for Test DataSet\n",
    "                signal, fs = librosa.load(filename)\n",
    "                \n",
    "                sr = fs\n",
    "                \n",
    "                #signal.shape\n",
    "                mfccs = librosa.feature.mfcc(signal, sr=fs, n_mfcc=40, n_fft = 1024, hop_length = 50, n_mels = 130,  fmin = 10, fmax = 4000)         \n",
    "                #mfccs = librosa.feature.mfcc(signal, sr=fs, n_mfcc=40, n_fft = 1024, hop_length = 200, n_mels = 1000,  fmin = 10, fmax = 4000)         \n",
    "\n",
    "                #Normalyse Y scale\n",
    "                mfccs = sklearn.preprocessing.scale(mfccs, axis=1)\n",
    "\n",
    "                #Visualie MFCC \n",
    "                plt.figure(figsize=(14,4))\n",
    "                #librosa.display.specshow(mfccs[1:][10:],x_axis='time',sr=sr)\n",
    "                librosa.display.specshow(mfccs[25:][:],x_axis='time',sr=sr)\n",
    "                plt.colorbar(format=\"%+2f\")\n",
    "                #plt.plot()\n",
    "                #plt.savefig('Word Detection/MFCCS_ID/'+x+y+l+t+'.jpeg')\n",
    "                \n",
    "                #Calculate Cepstrung and Power Spectrum\n",
    "                ceps, spec = real_cepstrum(signal, n=None)\n",
    "                N = signal.shape[0]\n",
    "\n",
    "                #Power Specturm\n",
    "                power_spec = np.abs(spec[:N//2])**2\n",
    "                #plt.plot(power_spec[0:1500])\n",
    "                index = np.where(power_spec == np.max(power_spec))\n",
    "                print(f'Power_spec: {index[0][0]}')\n",
    "                mfccs.append(index[0][0])\n",
    "\n",
    "                #Calculate Zero Cross Rate\n",
    "                frameSize = 256\n",
    "                overlap = 0\n",
    "                zcr = ZCR(signal, frameSize, overlap)\n",
    "                print(f'Zero Cross Rate: {np.max(zcr)}')\n",
    "                mfccs.append(np.max(zcr))\n",
    "\n",
    "                #Calculate Cepstrum\n",
    "                abs_ceps = np.abs(ceps[:N//2])**2\n",
    "                #plt.plot(abs_ceps[:10])\n",
    "                print(f'Cepstrum: {round(np.max(abs_ceps))}')\n",
    "                \n",
    "                #Spectral Centroid\n",
    "                spec_cen = spectral_centroid(signal, fs)\n",
    "                print(f'Spectral Centroid: {round(spec_cen)}')\n",
    "                \n",
    "                w +=1\n",
    "                sheet1.write(w, h, int(index[0][0]))\n",
    "                w +=1\n",
    "                sheet1.write(w, h, round(np.max(abs_ceps)))\n",
    "                w +=1 \n",
    "                sheet1.write(w, h, round(np.average(zcr)))\n",
    "                w +=1\n",
    "                sheet1.write(w, h, round(spec_cen))  \n",
    "                \n",
    "                \n",
    "                #Clean the graphics\n",
    "                plt.close()\n",
    "                plt.cla()\n",
    "                plt.clf()\n",
    "                    "
   ]
  },
  {
   "cell_type": "code",
   "execution_count": null,
   "id": "ff477729",
   "metadata": {},
   "outputs": [],
   "source": []
  }
 ],
 "metadata": {
  "kernelspec": {
   "display_name": "Python 3 (ipykernel)",
   "language": "python",
   "name": "python3"
  },
  "language_info": {
   "codemirror_mode": {
    "name": "ipython",
    "version": 3
   },
   "file_extension": ".py",
   "mimetype": "text/x-python",
   "name": "python",
   "nbconvert_exporter": "python",
   "pygments_lexer": "ipython3",
   "version": "3.8.12"
  }
 },
 "nbformat": 4,
 "nbformat_minor": 5
}
